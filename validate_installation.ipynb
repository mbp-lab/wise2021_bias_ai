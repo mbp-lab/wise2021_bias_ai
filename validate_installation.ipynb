{
 "cells": [
  {
   "cell_type": "markdown",
   "id": "ba89c229-0522-464d-ad94-8a0411d2ed1f",
   "metadata": {},
   "source": [
    "## Validate your Virtual Environment Installation\n",
    "\n",
    "To run cells in Jupyter Notebooks:\n",
    "1. Select the desired cell either by clicking it with your mouse and using the arrow keys\n",
    "2. Press shift-enter\n",
    "\n",
    "Run the below cell to validate your virtual env installation\n",
    "\n",
    "Then create a new cell and write some Python code to output \"hello world\"."
   ]
  },
  {
   "cell_type": "code",
   "execution_count": null,
   "id": "78043d15-136d-467d-b688-310a83d92883",
   "metadata": {},
   "outputs": [],
   "source": [
    "''' Run this cell to ensure all necessary Python Packages are installed\n",
    "\n",
    "If you recieve a \"ImportError: No module named <module>\" error, ensure the \n",
    "referenced module has been installed via conda.\n",
    "'''\n",
    "\n",
    "# Numpy for vector processing and linear algebra\n",
    "import numpy as np\n",
    "\n",
    "# Scikit learn for ML Pipeline\n",
    "from sklearn import datasets\n",
    "from sklearn.datasets import make_blobs\n",
    "from sklearn import preprocessing\n",
    "from sklearn import svm\n",
    "from sklearn import model_selection\n",
    "from sklearn import metrics\n",
    "\n",
    "# Matplotlib + Seaborn for plotting\n",
    "%matplotlib inline\n",
    "import matplotlib.pyplot as plt\n",
    "import seaborn as sns\n",
    "\n",
    "# Panda for data processing\n",
    "import pandas as pd\n",
    "pd.set_option('display.float_format', lambda x: '%.5f' % x)\n",
    "\n",
    "# Other Utils\n",
    "from utils import make_mesh\n",
    "from data.data_utils import get_doughnut_dataset\n",
    "\n",
    "print('All Modules Loaded Successfully')"
   ]
  }
 ],
 "metadata": {
  "kernelspec": {
   "display_name": "Python 3 (ipykernel)",
   "language": "python",
   "name": "python3"
  },
  "language_info": {
   "codemirror_mode": {
    "name": "ipython",
    "version": 3
   },
   "file_extension": ".py",
   "mimetype": "text/x-python",
   "name": "python",
   "nbconvert_exporter": "python",
   "pygments_lexer": "ipython3",
   "version": "3.9.7"
  }
 },
 "nbformat": 4,
 "nbformat_minor": 5
}
