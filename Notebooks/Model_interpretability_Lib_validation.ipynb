{
 "cells": [
  {
   "cell_type": "markdown",
   "id": "fc367432-d94f-45df-b787-d3465411cdf6",
   "metadata": {},
   "source": [
    "<table style=\"width:100%; border:0\" cellspacing=\"0\" cellpadding=\"0\" border=\"0\" align=\"left|left|right\">\n",
    "  <tr style=\"border:0\">\n",
    "  <td style=\"border: 0; font-size:60px\" rowspan=\"3\"><b>Universität Bielefeld</b></td>\n",
    "    <td style=\"border: 0\">CITEC / Faculty of Technology</td>\n",
    "  </tr>\n",
    "  <tr style=\"border:0\">\n",
    "    <td style=\"border: 0\">Multimodal Behavior Processing Group</td>\n",
    "  </tr>\n",
    "</table>"
   ]
  },
  {
   "cell_type": "markdown",
   "id": "71c4c6d2-dc27-4058-8e61-5d7c062bd09c",
   "metadata": {},
   "source": [
    "## \n",
    "Run the below cell to validate your virtual env installation\n"
   ]
  },
  {
   "cell_type": "code",
   "execution_count": 1,
   "id": "a6461354-f5ba-4780-9328-58fc98c73271",
   "metadata": {},
   "outputs": [
    {
     "name": "stdout",
     "output_type": "stream",
     "text": [
      "All Modules Loaded Successfully\n"
     ]
    }
   ],
   "source": [
    "# AIF360 as used in Bia_mitigation notebook\n",
    "from aif360.datasets import AdultDataset \n",
    "from aif360.metrics import ClassificationMetric\n",
    "from aif360.algorithms.preprocessing.reweighing import Reweighing\n",
    "from aif360.algorithms.preprocessing import DisparateImpactRemover\n",
    "from aif360.algorithms.preprocessing.lfr import LFR\n",
    "from aif360.algorithms.preprocessing.optim_preproc_helpers.data_preproc_functions\\\n",
    "            import load_preproc_data_adult, load_preproc_data_german, load_preproc_data_compas\n",
    "import tensorflow.compat.v1 as tf\n",
    "import tensorflow\n",
    "print('AIF360 loaded')\n",
    "\n",
    "# LIME: local interpretable model-agnostic explanations\n",
    "from lime.lime_tabular import LimeTabularExplainer\n",
    "from lime import submodular_pick\n",
    "print('Lime loaded')\n",
    "\n",
    "# iNNvestigate: iNNvestigate Neural Networks using Layer-wise relevance propagation\n",
    "import innvestigate\n",
    "import innvestigate.utils as iutils\n",
    "import keras\n",
    "print('iNNvestigated and Keras loaded')\n",
    "\n",
    "print('All Modules Loaded Successfully')"
   ]
  },
  {
   "cell_type": "code",
   "execution_count": 3,
   "id": "9fa2ea36-eb43-4d6e-8077-630b0ddecbad",
   "metadata": {},
   "outputs": [
    {
     "data": {
      "text/plain": [
       "'1.14.0'"
      ]
     },
     "execution_count": 3,
     "metadata": {},
     "output_type": "execute_result"
    }
   ],
   "source": [
    "tensorflow.__version__"
   ]
  },
  {
   "cell_type": "code",
   "execution_count": 2,
   "id": "4a6bbdad-2457-45ae-baf8-1d4bad725079",
   "metadata": {},
   "outputs": [
    {
     "data": {
      "text/plain": [
       "'2.2.4'"
      ]
     },
     "execution_count": 2,
     "metadata": {},
     "output_type": "execute_result"
    }
   ],
   "source": [
    "keras.__version__"
   ]
  },
  {
   "cell_type": "code",
   "execution_count": null,
   "id": "3b2265fe-3ce4-4498-b2a1-99cae536e000",
   "metadata": {},
   "outputs": [],
   "source": []
  }
 ],
 "metadata": {
  "kernelspec": {
   "display_name": "Python 3",
   "language": "python",
   "name": "python3"
  },
  "language_info": {
   "codemirror_mode": {
    "name": "ipython",
    "version": 3
   },
   "file_extension": ".py",
   "mimetype": "text/x-python",
   "name": "python",
   "nbconvert_exporter": "python",
   "pygments_lexer": "ipython3",
   "version": "3.6.15"
  }
 },
 "nbformat": 4,
 "nbformat_minor": 5
}
