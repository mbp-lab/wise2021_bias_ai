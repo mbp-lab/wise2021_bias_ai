{
 "cells": [
  {
   "cell_type": "markdown",
   "id": "76a24091-33d8-4e38-ba96-4ca2cf1a497c",
   "metadata": {},
   "source": [
    "<table style=\"width:100%; border:0\" cellspacing=\"0\" cellpadding=\"0\" border=\"0\" align=\"left|left|right\">\n",
    "  <tr style=\"border:0\">\n",
    "  <td style=\"border: 0; font-size:60px\" rowspan=\"3\"><b>Universität Bielefeld</b></td>\n",
    "    <td style=\"border: 0\">CITEC / Faculty of Technology</td>\n",
    "  </tr>\n",
    "  <tr style=\"border:0\">\n",
    "    <td style=\"border: 0\">Multimodal Behavior Processing Group</td>\n",
    "  </tr>\n",
    "</table>"
   ]
  },
  {
   "cell_type": "markdown",
   "id": "7d029872",
   "metadata": {},
   "source": [
    "## AI Fairness 360 \n",
    "We will be using AI Fairness 360 for the exercises. The AI Fairness 360 Python package includes a comprehensive set of metrics for datasets and models to test for biases, explanations for these metrics, and algorithms to mitigate bias in datasets and models. \n",
    "\n",
    "You can look up more information about the package [here](https://aif360.mybluemix.net/)\n",
    "\n",
    "The package can be installed using:\n",
    "```[bash]\n",
    "pip install 'aif360[all]'\n",
    "```\n"
   ]
  },
  {
   "cell_type": "markdown",
   "id": "2c56f517-9995-4659-8ee4-aab6d8abfa03",
   "metadata": {},
   "source": [
    "## Adult dataset\n",
    "This dataset is used to predict whether income exceeds $50K/yr. Contains 48842 instances, mix of continuous and discrete features.\n",
    "\n",
    "Download the following files and place them as-is in the folder: conda-env-path\\Lib\\site-packages\\aif360\\data\\raw\\adult (e.g. D:\\Anaconda\\envs\\aif360\\Lib\\site-packages\\aif360\\data\\raw\\adult)\n",
    "\n",
    "1. [adult.data](https://archive.ics.uci.edu/ml/machine-learning-databases/adult/adult.data)\n",
    "\n",
    "2. [adult.test](https://archive.ics.uci.edu/ml/machine-learning-databases/adult/adult.test)\n",
    "\n",
    "3. [adult.names](https://archive.ics.uci.edu/ml/machine-learning-databases/adult/adult.names)\n",
    "\n",
    "You can find more info about the dataset here: https://archive.ics.uci.edu/ml/datasets/Adult"
   ]
  },
  {
   "cell_type": "code",
   "execution_count": 4,
   "id": "fca4dc96-27b5-4b4b-82e0-3b0a11e0edee",
   "metadata": {},
   "outputs": [
    {
     "name": "stderr",
     "output_type": "stream",
     "text": [
      "Passing (type, 1) or '1type' as a synonym of type is deprecated; in a future version of numpy, it will be understood as (type, (1,)) / '(1,)type'.\n",
      "Passing (type, 1) or '1type' as a synonym of type is deprecated; in a future version of numpy, it will be understood as (type, (1,)) / '(1,)type'.\n",
      "Passing (type, 1) or '1type' as a synonym of type is deprecated; in a future version of numpy, it will be understood as (type, (1,)) / '(1,)type'.\n",
      "Passing (type, 1) or '1type' as a synonym of type is deprecated; in a future version of numpy, it will be understood as (type, (1,)) / '(1,)type'.\n",
      "Passing (type, 1) or '1type' as a synonym of type is deprecated; in a future version of numpy, it will be understood as (type, (1,)) / '(1,)type'.\n",
      "Passing (type, 1) or '1type' as a synonym of type is deprecated; in a future version of numpy, it will be understood as (type, (1,)) / '(1,)type'.\n"
     ]
    }
   ],
   "source": [
    "from aif360.datasets import AdultDataset \n",
    "from aif360.metrics import ClassificationMetric\n",
    "import pandas as pd\n",
    "from sklearn.linear_model import LogisticRegression\n",
    "from sklearn.preprocessing import MinMaxScaler, StandardScaler\n",
    "import numpy as np\n",
    "from IPython.display import Markdown, display\n",
    "from sklearn.metrics import confusion_matrix\n",
    "import matplotlib.pyplot as plt"
   ]
  },
  {
   "cell_type": "markdown",
   "id": "abbd3e5e-bfc0-44e0-a77f-9a25da2fa218",
   "metadata": {},
   "source": [
    "### Load the dataset:"
   ]
  },
  {
   "cell_type": "code",
   "execution_count": 5,
   "id": "8f282804-81ef-42e5-9009-d6caa2ff82a2",
   "metadata": {},
   "outputs": [],
   "source": [
    "# protected features\n",
    "protected = 'sex'\n",
    "# privileged class \n",
    "privileged_classes = [['Male']]\n",
    "privileged_groups = [{'sex': 1}]\n",
    "unprivileged_groups = [{'sex': 0}]\n",
    "features_to_keep=['age', 'education-num', 'capital-gain', 'capital-loss', 'hours-per-week']\n",
    "# load the dataset \n",
    "ad = AdultDataset(protected_attribute_names=[protected],\n",
    "    privileged_classes=privileged_classes, categorical_features=[],\n",
    "    features_to_keep=features_to_keep)\n",
    "\n",
    "# ad= AdultDataset()"
   ]
  },
  {
   "cell_type": "markdown",
   "id": "0ba268d8-cbb1-4b8d-999d-1fcb7a0ff642",
   "metadata": {},
   "source": [
    "### Info about the loaded dataset:"
   ]
  },
  {
   "cell_type": "code",
   "execution_count": 6,
   "id": "d0fdd751-6105-4221-b195-1316be8ab341",
   "metadata": {},
   "outputs": [
    {
     "data": {
      "text/markdown": [
       "#### Dataset shape"
      ],
      "text/plain": [
       "<IPython.core.display.Markdown object>"
      ]
     },
     "metadata": {},
     "output_type": "display_data"
    },
    {
     "name": "stdout",
     "output_type": "stream",
     "text": [
      "(48842, 6)\n"
     ]
    },
    {
     "data": {
      "text/markdown": [
       "#### Favorable and unfavorable labels"
      ],
      "text/plain": [
       "<IPython.core.display.Markdown object>"
      ]
     },
     "metadata": {},
     "output_type": "display_data"
    },
    {
     "name": "stdout",
     "output_type": "stream",
     "text": [
      "1.0 0.0\n"
     ]
    },
    {
     "data": {
      "text/markdown": [
       "#### Protected attribute names"
      ],
      "text/plain": [
       "<IPython.core.display.Markdown object>"
      ]
     },
     "metadata": {},
     "output_type": "display_data"
    },
    {
     "name": "stdout",
     "output_type": "stream",
     "text": [
      "['sex']\n"
     ]
    },
    {
     "data": {
      "text/markdown": [
       "#### Privileged and unprivileged protected attribute values"
      ],
      "text/plain": [
       "<IPython.core.display.Markdown object>"
      ]
     },
     "metadata": {},
     "output_type": "display_data"
    },
    {
     "name": "stdout",
     "output_type": "stream",
     "text": [
      "[array([1.])] [array([0.])]\n"
     ]
    },
    {
     "data": {
      "text/markdown": [
       "#### Dataset feature names"
      ],
      "text/plain": [
       "<IPython.core.display.Markdown object>"
      ]
     },
     "metadata": {},
     "output_type": "display_data"
    },
    {
     "name": "stdout",
     "output_type": "stream",
     "text": [
      "['age', 'education-num', 'sex', 'capital-gain', 'capital-loss', 'hours-per-week']\n"
     ]
    }
   ],
   "source": [
    "# print out some labels, names, etc.\n",
    "display(Markdown(\"#### Dataset shape\"))\n",
    "print(ad.features.shape)\n",
    "display(Markdown(\"#### Favorable and unfavorable labels\"))\n",
    "print(ad.favorable_label, ad.unfavorable_label)\n",
    "display(Markdown(\"#### Protected attribute names\"))\n",
    "print(ad.protected_attribute_names)\n",
    "display(Markdown(\"#### Privileged and unprivileged protected attribute values\"))\n",
    "print(ad.privileged_protected_attributes, ad.unprivileged_protected_attributes)\n",
    "display(Markdown(\"#### Dataset feature names\"))\n",
    "print(ad.feature_names)"
   ]
  },
  {
   "cell_type": "code",
   "execution_count": 7,
   "id": "c001edf6-b8ae-4256-8252-90430142eefb",
   "metadata": {},
   "outputs": [
    {
     "data": {
      "text/html": [
       "<div>\n",
       "<style scoped>\n",
       "    .dataframe tbody tr th:only-of-type {\n",
       "        vertical-align: middle;\n",
       "    }\n",
       "\n",
       "    .dataframe tbody tr th {\n",
       "        vertical-align: top;\n",
       "    }\n",
       "\n",
       "    .dataframe thead th {\n",
       "        text-align: right;\n",
       "    }\n",
       "</style>\n",
       "<table border=\"1\" class=\"dataframe\">\n",
       "  <thead>\n",
       "    <tr style=\"text-align: right;\">\n",
       "      <th></th>\n",
       "      <th>age</th>\n",
       "      <th>education-num</th>\n",
       "      <th>sex</th>\n",
       "      <th>capital-gain</th>\n",
       "      <th>capital-loss</th>\n",
       "      <th>hours-per-week</th>\n",
       "      <th>income-per-year</th>\n",
       "    </tr>\n",
       "  </thead>\n",
       "  <tbody>\n",
       "    <tr>\n",
       "      <th>0</th>\n",
       "      <td>25.0</td>\n",
       "      <td>7.0</td>\n",
       "      <td>1.0</td>\n",
       "      <td>0.0</td>\n",
       "      <td>0.0</td>\n",
       "      <td>40.0</td>\n",
       "      <td>0.0</td>\n",
       "    </tr>\n",
       "    <tr>\n",
       "      <th>1</th>\n",
       "      <td>38.0</td>\n",
       "      <td>9.0</td>\n",
       "      <td>1.0</td>\n",
       "      <td>0.0</td>\n",
       "      <td>0.0</td>\n",
       "      <td>50.0</td>\n",
       "      <td>0.0</td>\n",
       "    </tr>\n",
       "    <tr>\n",
       "      <th>2</th>\n",
       "      <td>28.0</td>\n",
       "      <td>12.0</td>\n",
       "      <td>1.0</td>\n",
       "      <td>0.0</td>\n",
       "      <td>0.0</td>\n",
       "      <td>40.0</td>\n",
       "      <td>1.0</td>\n",
       "    </tr>\n",
       "    <tr>\n",
       "      <th>3</th>\n",
       "      <td>44.0</td>\n",
       "      <td>10.0</td>\n",
       "      <td>1.0</td>\n",
       "      <td>7688.0</td>\n",
       "      <td>0.0</td>\n",
       "      <td>40.0</td>\n",
       "      <td>1.0</td>\n",
       "    </tr>\n",
       "    <tr>\n",
       "      <th>4</th>\n",
       "      <td>18.0</td>\n",
       "      <td>10.0</td>\n",
       "      <td>0.0</td>\n",
       "      <td>0.0</td>\n",
       "      <td>0.0</td>\n",
       "      <td>30.0</td>\n",
       "      <td>0.0</td>\n",
       "    </tr>\n",
       "  </tbody>\n",
       "</table>\n",
       "</div>"
      ],
      "text/plain": [
       "    age  education-num  sex  capital-gain  capital-loss  hours-per-week  \\\n",
       "0  25.0            7.0  1.0           0.0           0.0            40.0   \n",
       "1  38.0            9.0  1.0           0.0           0.0            50.0   \n",
       "2  28.0           12.0  1.0           0.0           0.0            40.0   \n",
       "3  44.0           10.0  1.0        7688.0           0.0            40.0   \n",
       "4  18.0           10.0  0.0           0.0           0.0            30.0   \n",
       "\n",
       "   income-per-year  \n",
       "0              0.0  \n",
       "1              0.0  \n",
       "2              1.0  \n",
       "3              1.0  \n",
       "4              0.0  "
      ]
     },
     "execution_count": 7,
     "metadata": {},
     "output_type": "execute_result"
    }
   ],
   "source": [
    "# display the loaded datset\n",
    "ad_df = ad.convert_to_dataframe()[0]\n",
    "ad_df.head()"
   ]
  },
  {
   "cell_type": "markdown",
   "id": "ca313c2d-5a27-47e1-9060-c7cdacbfff68",
   "metadata": {},
   "source": [
    "### Gender distribution:"
   ]
  },
  {
   "cell_type": "code",
   "execution_count": 8,
   "id": "14e5df0f-b2f6-4bd2-991e-5593ca4fad9f",
   "metadata": {},
   "outputs": [
    {
     "data": {
      "text/plain": [
       "Text(0.5, 1.0, 'Gender Distribution ')"
      ]
     },
     "execution_count": 8,
     "metadata": {},
     "output_type": "execute_result"
    },
    {
     "data": {
      "image/png": "[encoded data removed]",
      "text/plain": [
       "<Figure size 432x288 with 1 Axes>"
      ]
     },
     "metadata": {
      "needs_background": "light"
     },
     "output_type": "display_data"
    }
   ],
   "source": [
    "names = ['male', 'female']\n",
    "values = [len(ad_df[ad_df['sex']==1]), len(ad_df[ad_df['sex']==0])]\n",
    "plt.bar(names, values)\n",
    "plt.title(\"Gender Distribution \") "
   ]
  },
  {
   "cell_type": "code",
   "execution_count": 15,
   "id": "c682bd41-3a2e-4214-ada3-4c62e16c24f8",
   "metadata": {},
   "outputs": [
    {
     "data": {
      "text/plain": [
       "Text(0.5, 1.0, 'General Population vs Income')"
      ]
     },
     "execution_count": 15,
     "metadata": {},
     "output_type": "execute_result"
    },
    {
     "data": {
      "image/png": "[encoded data removed]",
      "text/plain": [
       "<Figure size 1080x432 with 3 Axes>"
      ]
     },
     "metadata": {
      "needs_background": "light"
     },
     "output_type": "display_data"
    }
   ],
   "source": [
    "names = ['>50', '=<50']\n",
    "count = [len(ad_df[ad_df[\"income-per-year\"]==1]), len(ad_df[ad_df[\"income-per-year\"]==0])]\n",
    "male = ad_df[ad_df['sex']==1]\n",
    "count_male = [len(male[male[\"income-per-year\"]==1]), len(male[male[\"income-per-year\"]==0])]\n",
    "female = ad_df[ad_df['sex']==0]\n",
    "count_female = [len(female[female[\"income-per-year\"]==1]), len(female[female[\"income-per-year\"]==0])]\n",
    "fig, ax = plt.subplots(1,3, figsize=(15,6))\n",
    "ax[0].bar(names, count_male)\n",
    "ax[0].set_ylim(bottom=0, top=40000)\n",
    "ax[0].set_title(\"Male vs Income\")\n",
    "ax[1].bar(names, count_female)\n",
    "ax[1].set_ylim(bottom=0, top=40000)\n",
    "ax[1].set_title(\"Female vs Income\")\n",
    "ax[2].bar(names, count)\n",
    "ax[2].set_ylim(bottom=0, top=40000)\n",
    "ax[2].set_title(\"General Population vs Income\")"
   ]
  },
  {
   "cell_type": "code",
   "execution_count": 16,
   "id": "ffad0b5e-e3f0-4f92-9856-c53d820d3fe2",
   "metadata": {},
   "outputs": [],
   "source": [
    "# split the data into train and test set \n",
    "ad_train, ad_test = ad.split([0.7], shuffle = True)"
   ]
  },
  {
   "cell_type": "code",
   "execution_count": 17,
   "id": "dc0e72f8-33a5-400c-898a-f835ea3d59a2",
   "metadata": {},
   "outputs": [
    {
     "data": {
      "text/html": [
       "<div>\n",
       "<style scoped>\n",
       "    .dataframe tbody tr th:only-of-type {\n",
       "        vertical-align: middle;\n",
       "    }\n",
       "\n",
       "    .dataframe tbody tr th {\n",
       "        vertical-align: top;\n",
       "    }\n",
       "\n",
       "    .dataframe thead th {\n",
       "        text-align: right;\n",
       "    }\n",
       "</style>\n",
       "<table border=\"1\" class=\"dataframe\">\n",
       "  <thead>\n",
       "    <tr style=\"text-align: right;\">\n",
       "      <th></th>\n",
       "      <th>age</th>\n",
       "      <th>education-num</th>\n",
       "      <th>sex</th>\n",
       "      <th>capital-gain</th>\n",
       "      <th>capital-loss</th>\n",
       "      <th>hours-per-week</th>\n",
       "      <th>income-per-year</th>\n",
       "    </tr>\n",
       "  </thead>\n",
       "  <tbody>\n",
       "    <tr>\n",
       "      <th>20186</th>\n",
       "      <td>56.0</td>\n",
       "      <td>4.0</td>\n",
       "      <td>1.0</td>\n",
       "      <td>0.0</td>\n",
       "      <td>2002.0</td>\n",
       "      <td>40.0</td>\n",
       "      <td>0.0</td>\n",
       "    </tr>\n",
       "    <tr>\n",
       "      <th>23669</th>\n",
       "      <td>59.0</td>\n",
       "      <td>10.0</td>\n",
       "      <td>0.0</td>\n",
       "      <td>0.0</td>\n",
       "      <td>0.0</td>\n",
       "      <td>35.0</td>\n",
       "      <td>0.0</td>\n",
       "    </tr>\n",
       "    <tr>\n",
       "      <th>34827</th>\n",
       "      <td>21.0</td>\n",
       "      <td>10.0</td>\n",
       "      <td>0.0</td>\n",
       "      <td>0.0</td>\n",
       "      <td>0.0</td>\n",
       "      <td>40.0</td>\n",
       "      <td>0.0</td>\n",
       "    </tr>\n",
       "    <tr>\n",
       "      <th>32067</th>\n",
       "      <td>36.0</td>\n",
       "      <td>9.0</td>\n",
       "      <td>1.0</td>\n",
       "      <td>0.0</td>\n",
       "      <td>0.0</td>\n",
       "      <td>70.0</td>\n",
       "      <td>0.0</td>\n",
       "    </tr>\n",
       "    <tr>\n",
       "      <th>19554</th>\n",
       "      <td>33.0</td>\n",
       "      <td>9.0</td>\n",
       "      <td>1.0</td>\n",
       "      <td>0.0</td>\n",
       "      <td>0.0</td>\n",
       "      <td>50.0</td>\n",
       "      <td>1.0</td>\n",
       "    </tr>\n",
       "    <tr>\n",
       "      <th>...</th>\n",
       "      <td>...</td>\n",
       "      <td>...</td>\n",
       "      <td>...</td>\n",
       "      <td>...</td>\n",
       "      <td>...</td>\n",
       "      <td>...</td>\n",
       "      <td>...</td>\n",
       "    </tr>\n",
       "    <tr>\n",
       "      <th>25489</th>\n",
       "      <td>22.0</td>\n",
       "      <td>9.0</td>\n",
       "      <td>1.0</td>\n",
       "      <td>0.0</td>\n",
       "      <td>0.0</td>\n",
       "      <td>40.0</td>\n",
       "      <td>0.0</td>\n",
       "    </tr>\n",
       "    <tr>\n",
       "      <th>42656</th>\n",
       "      <td>30.0</td>\n",
       "      <td>7.0</td>\n",
       "      <td>0.0</td>\n",
       "      <td>0.0</td>\n",
       "      <td>0.0</td>\n",
       "      <td>40.0</td>\n",
       "      <td>0.0</td>\n",
       "    </tr>\n",
       "    <tr>\n",
       "      <th>44546</th>\n",
       "      <td>19.0</td>\n",
       "      <td>9.0</td>\n",
       "      <td>1.0</td>\n",
       "      <td>0.0</td>\n",
       "      <td>0.0</td>\n",
       "      <td>35.0</td>\n",
       "      <td>0.0</td>\n",
       "    </tr>\n",
       "    <tr>\n",
       "      <th>27050</th>\n",
       "      <td>36.0</td>\n",
       "      <td>13.0</td>\n",
       "      <td>1.0</td>\n",
       "      <td>7688.0</td>\n",
       "      <td>0.0</td>\n",
       "      <td>40.0</td>\n",
       "      <td>1.0</td>\n",
       "    </tr>\n",
       "    <tr>\n",
       "      <th>4976</th>\n",
       "      <td>28.0</td>\n",
       "      <td>12.0</td>\n",
       "      <td>1.0</td>\n",
       "      <td>0.0</td>\n",
       "      <td>0.0</td>\n",
       "      <td>35.0</td>\n",
       "      <td>0.0</td>\n",
       "    </tr>\n",
       "  </tbody>\n",
       "</table>\n",
       "<p>34189 rows × 7 columns</p>\n",
       "</div>"
      ],
      "text/plain": [
       "        age  education-num  sex  capital-gain  capital-loss  hours-per-week  \\\n",
       "20186  56.0            4.0  1.0           0.0        2002.0            40.0   \n",
       "23669  59.0           10.0  0.0           0.0           0.0            35.0   \n",
       "34827  21.0           10.0  0.0           0.0           0.0            40.0   \n",
       "32067  36.0            9.0  1.0           0.0           0.0            70.0   \n",
       "19554  33.0            9.0  1.0           0.0           0.0            50.0   \n",
       "...     ...            ...  ...           ...           ...             ...   \n",
       "25489  22.0            9.0  1.0           0.0           0.0            40.0   \n",
       "42656  30.0            7.0  0.0           0.0           0.0            40.0   \n",
       "44546  19.0            9.0  1.0           0.0           0.0            35.0   \n",
       "27050  36.0           13.0  1.0        7688.0           0.0            40.0   \n",
       "4976   28.0           12.0  1.0           0.0           0.0            35.0   \n",
       "\n",
       "       income-per-year  \n",
       "20186              0.0  \n",
       "23669              0.0  \n",
       "34827              0.0  \n",
       "32067              0.0  \n",
       "19554              1.0  \n",
       "...                ...  \n",
       "25489              0.0  \n",
       "42656              0.0  \n",
       "44546              0.0  \n",
       "27050              1.0  \n",
       "4976               0.0  \n",
       "\n",
       "[34189 rows x 7 columns]"
      ]
     },
     "execution_count": 17,
     "metadata": {},
     "output_type": "execute_result"
    }
   ],
   "source": [
    "ad_train.convert_to_dataframe()[0]"
   ]
  },
  {
   "cell_type": "code",
   "execution_count": 18,
   "id": "639e736d-ddfb-481d-9b8c-7c07c57618d5",
   "metadata": {},
   "outputs": [],
   "source": [
    "def logistic_classifier( train, test, threshold=0.5):\n",
    "    \"\"\"\n",
    "    Applies logistic regression \n",
    "    Args:\n",
    "        train: Traing set\n",
    "        test: Test set\n",
    "        threshold: predict a favourable outcome if probabilty >= threshold\n",
    "    returns:\n",
    "        Dataset with predictions from the trained classifier \n",
    "    \"\"\"\n",
    "    \n",
    "    # Placeholder for predicted datasets\n",
    "    orig_train_pred = train.copy(deepcopy=True)\n",
    "    orig_test_pred = test.copy(deepcopy=True)\n",
    "    \n",
    "    # scalling operation\n",
    "    scale = StandardScaler()\n",
    "    x_train = scale.fit_transform(train.features)\n",
    "    y_train = train.labels.ravel()\n",
    "    \n",
    "    # logistic regression\n",
    "    logistic = LogisticRegression()\n",
    "    logistic.fit(x_train, y_train)\n",
    "    \n",
    "    fav_idx = np.where(logistic.classes_ == train.favorable_label)[0][0]\n",
    "    y_train_pred_prob = logistic.predict_proba(x_train)[:,fav_idx]\n",
    "    \n",
    "    x_test = scale.fit_transform(test.features)\n",
    "    y_test_pred_prob = logistic.predict_proba(x_test)[:, fav_idx]\n",
    "    \n",
    "    \n",
    "    orig_train_pred.scores = y_train_pred_prob.reshape(-1,1)\n",
    "    orig_test_pred.scores = y_test_pred_prob.reshape(-1,1)\n",
    "    \n",
    "    y_train_pred = np.zeros_like(orig_train_pred.labels)\n",
    "    y_train_pred[y_train_pred_prob >= threshold] = orig_train_pred.favorable_label\n",
    "    y_train_pred[~(y_train_pred_prob >= threshold)] = orig_train_pred.unfavorable_label\n",
    "    orig_train_pred.labels = y_train_pred\n",
    "    \n",
    "    y_test_pred = np.zeros_like(orig_test_pred.labels)\n",
    "    y_test_pred[y_test_pred_prob >= threshold] = orig_test_pred.favorable_label\n",
    "    y_test_pred[~(y_test_pred_prob >= threshold)] = orig_test_pred.unfavorable_label\n",
    "    orig_test_pred.labels = y_test_pred\n",
    "    \n",
    "    return orig_train_pred, orig_test_pred"
   ]
  },
  {
   "cell_type": "code",
   "execution_count": 19,
   "id": "d0413b20-f1bc-4885-9af7-4da2d6830c79",
   "metadata": {},
   "outputs": [],
   "source": [
    "# get the transformed dataset\n",
    "predicted_train, predicted_test = logistic_classifier(ad_train, ad_test)"
   ]
  },
  {
   "cell_type": "markdown",
   "id": "7cc7b66a-d9e8-450d-8680-84354dcfdcc6",
   "metadata": {},
   "source": [
    "# Refresher on the various fairness metrics :\n",
    "\n",
    "## Equalized odds\n",
    "\n",
    "A classifier satisfies this definition if the subjects in the protected and unprotected groups have equal TPR and equal FPR.\n",
    "\n",
    "$$P(\\hat{Y} = 1 \\vert A = 0 , Y = y ) = P(\\hat{Y} = 1 \\vert A = 1 , Y = y ) , y \\in \\{0,1\\} $$\n",
    "\n",
    "## Equal accuracy\n",
    " A classifier satisfies this definition if the subject in the protected and unprotected groups have equal prediction accuracy, that is, the probability of a subject from one class to be assigned to it. This is, if it satisfies the following formula\n",
    " \n",
    "$$P(R=Y, A=a ) = P(R=Y, A=b )  \\quad \\forall  a , b \\in A $$ \n",
    "\n",
    "\n",
    "## Equal opportunity\n",
    "We say that a binary predictor ̂Y satisfies equal opportunity with respect to A and Y if\n",
    "\n",
    "$$P(\\hat{Y} = 1 \\vert A = 0 , Y = 1 ) = P(\\hat{Y} = 1 \\vert A = 1 , Y = 1 )  $$\n",
    "\n",
    "\n",
    "## Treatment equality\n",
    "A classifier satisfies this definition if the subjects in the protected and unprotected groups have an equal ratio of FN and FP, satisfying the formula\n",
    "\n",
    "$$\\dfrac{FN_{A=a}}{FP_{A=a}} = \\dfrac{FN_{A=b}}{FP_{A=b}}$$\n",
    "\n",
    "## Demographic Parity\n",
    " A classifier satisfies this definition if the subjects in the protected and unprotected groups have equal probability of being assigned to the positive predicted class.\n",
    " \n",
    " $$P(R= + \\vert A=a) = P(R= + \\vert A=b) \\quad \\forall a, b \\in A    $$\n",
    " where R is the predictions and A is the set of groups\n",
    " \n",
    " [source](https://en.wikipedia.org/wiki/Fairness_(machine_learning))\n",
    " \n",
    " Further resources:\n",
    " https://developers.google.com/machine-learning/glossary/fairness"
   ]
  },
  {
   "cell_type": "markdown",
   "id": "707b11ba-c30e-40dd-91bb-eb5a69340cbc",
   "metadata": {},
   "source": [
    "### Calculate metrics using aif360:"
   ]
  },
  {
   "cell_type": "code",
   "execution_count": 20,
   "id": "4d045256-36e8-48bb-a13f-5291382af4c8",
   "metadata": {},
   "outputs": [],
   "source": [
    "# Class for computing metrics based on two BinaryLabelDatasets using aif360.\n",
    "cm_pred_train = ClassificationMetric(ad_train, predicted_train,\n",
    "                             unprivileged_groups=unprivileged_groups,\n",
    "                             privileged_groups=privileged_groups)\n",
    "cm_pred_test = ClassificationMetric(ad_test, predicted_test,\n",
    "                             unprivileged_groups=unprivileged_groups,\n",
    "                             privileged_groups=privileged_groups)"
   ]
  },
  {
   "cell_type": "code",
   "execution_count": 25,
   "id": "f5c2c421-6e92-4f0f-8af1-e59abf2ab833",
   "metadata": {},
   "outputs": [
    {
     "name": "stdout",
     "output_type": "stream",
     "text": [
      "Train: -0.15448118262555505 Test: -0.16902186072978914\n"
     ]
    }
   ],
   "source": [
    "# method used to calculate average odds differnce\n",
    "print(f\"Train:\",cm_pred_train.average_odds_difference(),\"Test:\",cm_pred_test.average_odds_difference())"
   ]
  },
  {
   "cell_type": "markdown",
   "id": "70048d1f-78be-4931-bcd8-0ddd8e5ea3b2",
   "metadata": {},
   "source": [
    "### Task 1: Calculate  difference in Equalized odds, Equal accuracy, Equal opportunity, Treatment equality and demographic parity for the predictions.\n",
    "\n",
    "Assume that sex is a sensitive attribute with sex=1(male) as the privileged groups  and sex=0(female) as the underprivileged  group.\n",
    "To calculate the metrics you would need to first calculate the confusion matrix. "
   ]
  },
  {
   "cell_type": "code",
   "execution_count": 468,
   "id": "08220e6c-3e6e-4dcc-ae19-e79af6902c2f",
   "metadata": {},
   "outputs": [],
   "source": [
    "def metrics(dataset_pred, dataset_true):\n",
    "    \n",
    "    \"\"\"\n",
    "    Function that takes both the predicted and ground truth dataset and calculates the different metrics \n",
    "    \n",
    "    args:\n",
    "    first:  Dataset with predictions\n",
    "    second: Dataset with the ground truth\n",
    "    \n",
    "    return:\n",
    "    The five metrics:Equalized odds , Equal accuracy, Treatment equality, Equal opportunity, Demographic parity\n",
    "    \"\"\"\n",
    "    \n",
    "    #####################################################\n",
    "    #                   Your code                       #\n",
    "    #####################################################\n",
    "    \n",
    "    # hint: sklearn provides a function to calculate the confusion matrix\n",
    "    \n",
    "    # you can convert the datset to a dataframe using the below code\n",
    "    # dataset_pred = dataset_pred.convert_to_dataframe()[0]\n",
    "    \n"
   ]
  },
  {
   "cell_type": "markdown",
   "id": "2aec202b-4717-44b7-b14e-31e38e03c174",
   "metadata": {},
   "source": [
    "### Task 2.1: Use your function( metrics )  to calculate the metrics for different threshold values. "
   ]
  },
  {
   "cell_type": "code",
   "execution_count": null,
   "id": "871f88fa-61ce-4faf-b273-23ed81babcf2",
   "metadata": {},
   "outputs": [],
   "source": [
    "all_thresh = np.linspace(0.01, 0.99, 25)\n",
    "for threshold in all_thresh:\n",
    "    \n",
    "    #####################################################\n",
    "    #                   Your code                       #\n",
    "    #####################################################\n",
    "    \n",
    "    # you would need to get the predicitons for the differnt thresholds, look at dataset.scores to get the probabilty associated with the predicitons. \n",
    "    # hint: look at the function logistic_classifier to see how to use these probabilty scores to change your predictions.\n",
    "    "
   ]
  },
  {
   "cell_type": "markdown",
   "id": "edf9941c-3c45-414b-a7ec-f2153c2c255d",
   "metadata": {},
   "source": [
    "### Task 2.2: Visualize the variations of the metrics w.r.t. the threshold. Here it would be also important to see how the overall accuracy (consider  *Balanced Accuracy* ) changes as the threshold is varied."
   ]
  },
  {
   "cell_type": "code",
   "execution_count": 9,
   "id": "5d14d3c1-f104-4c71-aee3-9a05652c4d26",
   "metadata": {},
   "outputs": [],
   "source": [
    "    #####################################################\n",
    "    #                   Your code                       #\n",
    "    #####################################################\n",
    "    \n",
    "    # hint: try to visualize the tradeoff between balanced accuracy and the various metrics"
   ]
  },
  {
   "cell_type": "markdown",
   "id": "79480db0-ed1d-45eb-976b-e977e85440a9",
   "metadata": {},
   "source": [
    "### Task 3: Write a short summary of what you observe from the plots."
   ]
  },
  {
   "cell_type": "markdown",
   "id": "5561895b-9290-4059-93c1-10508305459e",
   "metadata": {},
   "source": [
    "Your findings here: *you don't need to code anything for this task, you need to document what information that you get from all your previous analysis*"
   ]
  },
  {
   "cell_type": "code",
   "execution_count": null,
   "id": "96a72834-ca2a-4536-8b3a-fd344149ee6b",
   "metadata": {},
   "outputs": [],
   "source": []
  }
 ],
 "metadata": {
  "kernelspec": {
   "display_name": "Python 3",
   "language": "python",
   "name": "python3"
  },
  "language_info": {
   "codemirror_mode": {
    "name": "ipython",
    "version": 3
   },
   "file_extension": ".py",
   "mimetype": "text/x-python",
   "name": "python",
   "nbconvert_exporter": "python",
   "pygments_lexer": "ipython3",
   "version": "3.6.13"
  }
 },
 "nbformat": 4,
 "nbformat_minor": 5
}
